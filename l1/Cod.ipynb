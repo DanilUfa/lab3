#!/usr/bin/env python
# coding: utf-8

# In[57]:


import numpy as np
import pandas as pd

data = pd.read_csv('data.csv')
#data = pd.read_csv('data2.csv')

x = data.copy()
y = x.pop('f')


# In[58]:


from tensorflow import keras
from tensorflow.keras import layers

neurons = 5

model = keras.Sequential([
    layers.Dense(neurons, activation='relu', input_shape=[x.shape[1]]),
    layers.Dense(1, activation='tanh'),
])


# In[59]:


model.compile(
    optimizer='adam',
    loss='mae'
)


# In[60]:


tt = model.fit(
    x, y,
    epochs=1000
)


# In[62]:


y_pred = model.predict(x)


# In[63]:
#s = 0
#for i in range(len(y)):
#    if y_pred[i][0].round() != y[i]:
#        s += 1
#print(s,'из', len(y))
#print(1 - s / len(y),'%')
m = 0
Mis = []
for i in range(len(y)):
    if y_pred[i][0].round() != y[i]:
        Mis.append(x.loc(0)[i])
        m += 1
print('Всего ошибок:',m,'из', len(y))
print('Точность:',1 - m / len(y))
print('Ошибки:')
for i in Mis:
    print('Экземпляр №', i.name,sep='',end=': ')
    for j in i:
        print(j,end=' ')
    print()

# In[65]:


for layer in model.layers: 
    print(layer.get_weights())


# In[66]:


import xlwt
book = xlwt.Workbook(encoding="utf-8")
sheet = book.add_sheet("weights") 
sheet.write(0, 0, "HL") 

for i in range(neurons):
    sheet.write(1 + i, 0, "n" + str(i + 1)) 
sheet.write(1 + neurons, 0, "bias")

for i in range(x.shape[1]):
    sheet.write(0, 1 + i,  "x" + str(i + 1))

sheet.write(0, x.shape[1] + 1,  "OL")   
sheet.write(0, x.shape[1] + 2,  "x1")

ex_begin = 1    
ex = ex_begin
ey = 1
for layer in model.layers:
    L = layer.get_weights()
    for l in L[0]:
        for z in l.tolist():
            sheet.write(ey, ex,  z)
            ex += 1
        
        ex = ex_begin
        ey += 1
    for z in L[1].tolist():
        sheet.write(ey, ex,  z)
        ex += 1 
    ex_begin = x.shape[1] + 2
    ex = ex_begin
    ey = 1
book.save("weights.xlsx")


# In[ ]:




